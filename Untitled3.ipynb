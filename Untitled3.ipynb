{
  "nbformat": 4,
  "nbformat_minor": 0,
  "metadata": {
    "colab": {
      "name": "Untitled3.ipynb",
      "provenance": [],
      "authorship_tag": "ABX9TyN6cFd80Juz87n8nwJ7BYtO",
      "include_colab_link": true
    },
    "kernelspec": {
      "name": "python3",
      "display_name": "Python 3"
    },
    "language_info": {
      "name": "python"
    }
  },
  "cells": [
    {
      "cell_type": "markdown",
      "metadata": {
        "id": "view-in-github",
        "colab_type": "text"
      },
      "source": [
        "<a href=\"https://colab.research.google.com/github/USIS003320/Programacion-III/blob/main/Untitled3.ipynb\" target=\"_parent\"><img src=\"https://colab.research.google.com/assets/colab-badge.svg\" alt=\"Open In Colab\"/></a>"
      ]
    },
    {
      "cell_type": "code",
      "metadata": {
        "id": "bM8CeShFAaqI"
      },
      "source": [
        "archivo = pd.read_csv(\"/content/notas.csv\",sep=\";\",encoding=\"utf-8\")\n",
        "#print(archivo, archivo[\"notas\"])\n",
        "\n",
        "procesar = pd.crosstab(index=archivo[\"notas\"],columns=\"cant_veces_repite\")\n",
        "#print(procesar)\n",
        "\n",
        "def nombre(n):\n",
        "  if n!=\"\":\n",
        "    valor = n+\",\"\n",
        "   else:\n",
        "     valor = \"\"\n",
        "     return valor \n",
        "\n",
        "agrupado = archivo.groupby([\"notas\"]).agg({lambda x:x+=\",\"})\n",
        "print(agrupado)\n",
        "\n",
        "plt.pie(procesar, labels=procesar.index)\n",
        "plt.xlabel(\"Notas por estudiante\")\n",
        "plt.show()"
      ],
      "execution_count": null,
      "outputs": []
    },
    {
      "cell_type": "code",
      "metadata": {
        "id": "YUcWVMK6BI_e"
      },
      "source": [
        "import pandas as pd\n",
        "import matplotlib.pyplot as plt"
      ],
      "execution_count": 15,
      "outputs": []
    },
    {
      "cell_type": "code",
      "metadata": {
        "id": "kYVwCEiLItqI"
      },
      "source": [
        "usuarios = pd.read_csv(\"/content/Usuarios.csv\",  sep=\";\", encoding=\"latin-1\")\n",
        "print(usuarios)\n",
        "\n",
        "peliculas = pd.read_csv(\"/content/Peliculas.csv\", sep=\";\", encoding=\"utf-8\")\n",
        "print(peliculas)\n",
        "\n",
        "usuariosPeliculas = pd.read_csv(\"/content/Usuariospeliculas.csv\", sep=\";\")\n",
        "#print(usuariosPeliculas)\n",
        "\n",
        "usuarioUserPelicula = pd.merge( pd.marge(usuarios, usuariosPeliculas), peliculas, on= \"idPelicula\")\n",
        "print(unionUsuarioPelicula[\"nombre\"], unionUsuarioPelicula[\"titulo\"], unionUsuarioPelicula[\"aceptacion\"])"
      ],
      "execution_count": null,
      "outputs": []
    }
  ]
}